{
 "cells": [
  {
   "cell_type": "code",
   "execution_count": 8,
   "id": "395fbb32-72dd-4397-bf63-f1f9107c1023",
   "metadata": {},
   "outputs": [
    {
     "name": "stdout",
     "output_type": "stream",
     "text": [
      "TensorFlow version: 2.8.0\n"
     ]
    }
   ],
   "source": [
    "import tensorflow as tf\n",
    "print(\"TensorFlow version:\", tf.__version__)\n",
    "\n",
    "import keras\n",
    "import cv2 as cv\n",
    "from sklearn.preprocessing import LabelBinarizer\n",
    "from sklearn.model_selection import train_test_split\n",
    "\n",
    "from keras.preprocessing.image import ImageDataGenerator, img_to_array, load_img\n",
    "from tensorflow.keras.models import Sequential\n",
    "from tensorflow.keras import backend\n",
    "from tensorflow.keras.optimizers import Adam\n",
    "\n",
    "from tensorflow.keras.layers import (\n",
    "    BatchNormalization,\n",
    "    Conv2D,\n",
    "    SeparableConv2D,\n",
    "    MaxPooling2D,\n",
    "    Activation,\n",
    "    Flatten,\n",
    "    Dropout,\n",
    "    Dense,\n",
    ")\n",
    "from tensorflow.keras.models import load_model\n",
    "\n",
    "import pickle\n",
    "import numpy as np\n",
    "import pandas as pd\n",
    "from matplotlib import pyplot as plt\n",
    "import os\n",
    "from os import listdir\n",
    "import random"
   ]
  },
  {
   "cell_type": "code",
   "execution_count": 9,
   "id": "31d020eb-7b10-4ee8-98d5-6dfdad940c9a",
   "metadata": {},
   "outputs": [],
   "source": [
    "DATASET_FOLDER = \"dataset/digit smol\"\n",
    "HEIGHT = 28\n",
    "WIDTH = 28\n",
    "DEFAULT_IMAGE_SIZE = (28, 28)\n",
    "INIT_LR = 1e-3\n",
    "EPOCHS = 15\n",
    "BATCH_SIZE = 32\n",
    "\n",
    "def convert_image_to_array(image_src):\n",
    "    try:\n",
    "        image = cv.imread(image_src, cv.IMREAD_GRAYSCALE)\n",
    "        if image is not None:\n",
    "            image = cv.resize(image, DEFAULT_IMAGE_SIZE)\n",
    "            # imageMasked = mask_image(image)\n",
    "            imgToArray = img_to_array(image) / 255.0\n",
    "            # print(imgToArray)\n",
    "            return imgToArray\n",
    "        else:\n",
    "            return np.array([])\n",
    "    except Exception as e:\n",
    "        print(f\"Error : {e}\")\n",
    "        return None\n"
   ]
  },
  {
   "cell_type": "code",
   "execution_count": 10,
   "id": "6d00c49f-a05b-411a-bfaa-f5de82e378b9",
   "metadata": {},
   "outputs": [
    {
     "name": "stdout",
     "output_type": "stream",
     "text": [
      "[INFO] Loading images ...\n",
      "[INFO] Processing 0 ...\n",
      "[INFO] Processing 1 ...\n",
      "[INFO] Processing 2 ...\n",
      "[INFO] Processing 3 ...\n",
      "[INFO] Processing 4 ...\n",
      "[INFO] Processing 5 ...\n",
      "[INFO] Processing 6 ...\n",
      "[INFO] Processing 7 ...\n",
      "[INFO] Processing 8 ...\n",
      "[INFO] Processing 9 ...\n",
      "\n",
      "[INFO] Image loading completed\n",
      "size (28, 28, 1)\n",
      "\n",
      "[INFO] Total Images:  9520\n",
      "(9520, 2)\n"
     ]
    },
    {
     "name": "stderr",
     "output_type": "stream",
     "text": [
      "C:\\Users\\Gourab Paul\\AppData\\Local\\Programs\\Python\\Python310\\lib\\site-packages\\numpy\\core\\fromnumeric.py:1970: VisibleDeprecationWarning: Creating an ndarray from ragged nested sequences (which is a list-or-tuple of lists-or-tuples-or ndarrays with different lengths or shapes) is deprecated. If you meant to do this, you must specify 'dtype=object' when creating the ndarray.\n",
      "  result = asarray(a).shape\n"
     ]
    }
   ],
   "source": [
    "image_list = []\n",
    "label_list = []\n",
    "data = []\n",
    "try:\n",
    "    print(\"[INFO] Loading images ...\")\n",
    "    \n",
    "    data_dir = listdir(f\"{DATASET_FOLDER}\")\n",
    "    \n",
    "    for eachDirectory in data_dir:\n",
    "        print(f\"[INFO] Processing {eachDirectory} ...\")\n",
    "        plant_disease_image_list = listdir(f\"{DATASET_FOLDER}/{eachDirectory}/\")\n",
    "        # print(plant_disease_image_list)\n",
    "        for image in plant_disease_image_list[50:]:\n",
    "            image_directory = f\"{DATASET_FOLDER}/{eachDirectory}/{image}\"\n",
    "            label = eachDirectory\n",
    "            if image_directory.lower().endswith(\".jpg\") == True:\n",
    "                # Converting each image into matrix\n",
    "                arrayImage = convert_image_to_array(image_directory)\n",
    "                # Adding the images, then labels to list\n",
    "                image_list.append(arrayImage)\n",
    "                label_list.append(label)\n",
    "                # adding both image and label to data\n",
    "                data.append([arrayImage, label])\n",
    "    print(\"\\n[INFO] Image loading completed\")\n",
    "    print(\"size\", image_list[0].shape)\n",
    "    \n",
    "    print(\"\\n[INFO] Total Images: \", len(data))\n",
    "except Exception as e:\n",
    "    print(f\"Error : {e}\")\n",
    "\n",
    "\n",
    "# =================================================================================================\n",
    "# Shuffle the data to remove bias towards any single sub-dataset\n",
    "random.shuffle(data)\n",
    "# print(\"\\ndata[name]\",data[1234][1])\n",
    "# plt.imshow(data[1234][0])\n",
    "\n",
    "X = []\n",
    "Y = []\n",
    "print(np.shape(data))\n",
    "for features, labels in data:\n",
    "    X.append(features)  # X is images\n",
    "    Y.append(labels)  # Y is labels\n",
    "images_count = len(X)\n",
    "\n",
    "X = np.array(X)\n",
    "Y = np.array(Y)"
   ]
  },
  {
   "cell_type": "code",
   "execution_count": 11,
   "id": "334ae8a3-6fcf-4460-8024-5a95e66fd9cc",
   "metadata": {},
   "outputs": [
    {
     "name": "stdout",
     "output_type": "stream",
     "text": [
      "(9520, 28, 28, 1)\n",
      "10\n"
     ]
    }
   ],
   "source": [
    "image_list = X\n",
    "label_list = Y\n",
    "print(np.shape(image_list))\n",
    "label_binarizer = LabelBinarizer()\n",
    "image_labels = label_binarizer.fit_transform(label_list)\n",
    "n_classes = len(label_binarizer.classes_)\n",
    "print(n_classes)"
   ]
  },
  {
   "cell_type": "code",
   "execution_count": 12,
   "id": "eaf79c92-fa34-45da-91a6-feb7dfc60b82",
   "metadata": {},
   "outputs": [
    {
     "name": "stdout",
     "output_type": "stream",
     "text": [
      "[INFO] Spliting data to train, test\n"
     ]
    }
   ],
   "source": [
    "np_image_list = np.array(image_list, dtype=np.float16) / 225.0\n",
    "\n",
    "\n",
    "# ====================================================================================================\n",
    "print(\"[INFO] Spliting data to train, test\")\n",
    "x_train, x_test, y_train, y_test = train_test_split(\n",
    "    image_list, image_labels, test_size=0.3, random_state=42, shuffle=True\n",
    ")\n",
    "\n",
    "\n",
    "# ====================================================================================================\n",
    "# aug = ImageDataGenerator(\n",
    "#     rotation_range=25,\n",
    "#     width_shift_range=0.1,\n",
    "#     height_shift_range=0.1,\n",
    "#     shear_range=0.2,\n",
    "#     zoom_range=0.2,\n",
    "#     horizontal_flip=True,\n",
    "#     fill_mode=\"nearest\",\n",
    "# )"
   ]
  },
  {
   "cell_type": "code",
   "execution_count": 13,
   "id": "b89d6492-d7a7-4826-970f-27be26d73ded",
   "metadata": {},
   "outputs": [
    {
     "name": "stdout",
     "output_type": "stream",
     "text": [
      "Model: \"sequential_1\"\n",
      "_________________________________________________________________\n",
      " Layer (type)                Output Shape              Param #   \n",
      "=================================================================\n",
      " conv2d_3 (Conv2D)           (None, 28, 28, 32)        320       \n",
      "                                                                 \n",
      " activation_4 (Activation)   (None, 28, 28, 32)        0         \n",
      "                                                                 \n",
      " batch_normalization_4 (Batc  (None, 28, 28, 32)       128       \n",
      " hNormalization)                                                 \n",
      "                                                                 \n",
      " max_pooling2d_2 (MaxPooling  (None, 9, 9, 32)         0         \n",
      " 2D)                                                             \n",
      "                                                                 \n",
      " dropout_3 (Dropout)         (None, 9, 9, 32)          0         \n",
      "                                                                 \n",
      " conv2d_4 (Conv2D)           (None, 9, 9, 64)          18496     \n",
      "                                                                 \n",
      " activation_5 (Activation)   (None, 9, 9, 64)          0         \n",
      "                                                                 \n",
      " batch_normalization_5 (Batc  (None, 9, 9, 64)         256       \n",
      " hNormalization)                                                 \n",
      "                                                                 \n",
      " conv2d_5 (Conv2D)           (None, 9, 9, 64)          36928     \n",
      "                                                                 \n",
      " activation_6 (Activation)   (None, 9, 9, 64)          0         \n",
      "                                                                 \n",
      " batch_normalization_6 (Batc  (None, 9, 9, 64)         256       \n",
      " hNormalization)                                                 \n",
      "                                                                 \n",
      " max_pooling2d_3 (MaxPooling  (None, 4, 4, 64)         0         \n",
      " 2D)                                                             \n",
      "                                                                 \n",
      " dropout_4 (Dropout)         (None, 4, 4, 64)          0         \n",
      "                                                                 \n",
      " flatten_1 (Flatten)         (None, 1024)              0         \n",
      "                                                                 \n",
      " dense_1 (Dense)             (None, 1024)              1049600   \n",
      "                                                                 \n",
      " activation_7 (Activation)   (None, 1024)              0         \n",
      "                                                                 \n",
      " batch_normalization_7 (Batc  (None, 1024)             4096      \n",
      " hNormalization)                                                 \n",
      "                                                                 \n",
      " dropout_5 (Dropout)         (None, 1024)              0         \n",
      "                                                                 \n",
      " dense_2 (Dense)             (None, 10)                10250     \n",
      "                                                                 \n",
      " activation_8 (Activation)   (None, 10)                0         \n",
      "                                                                 \n",
      "=================================================================\n",
      "Total params: 1,120,330\n",
      "Trainable params: 1,117,962\n",
      "Non-trainable params: 2,368\n",
      "_________________________________________________________________\n",
      "[INFO] training network...\n",
      "Epoch 1/20\n",
      "167/167 [==============================] - 3s 11ms/step - loss: 0.5943 - accuracy: 0.8222 - val_loss: 8.6241 - val_accuracy: 0.0975\n",
      "Epoch 2/20\n",
      "167/167 [==============================] - 1s 8ms/step - loss: 0.2221 - accuracy: 0.9343 - val_loss: 6.5777 - val_accuracy: 0.1005\n",
      "Epoch 3/20\n",
      "167/167 [==============================] - 1s 8ms/step - loss: 0.1791 - accuracy: 0.9464 - val_loss: 0.9273 - val_accuracy: 0.7037\n",
      "Epoch 4/20\n",
      "167/167 [==============================] - 1s 8ms/step - loss: 0.1319 - accuracy: 0.9597 - val_loss: 0.1206 - val_accuracy: 0.9610\n",
      "Epoch 5/20\n",
      "167/167 [==============================] - 1s 8ms/step - loss: 0.1120 - accuracy: 0.9632 - val_loss: 0.0711 - val_accuracy: 0.9782\n",
      "Epoch 6/20\n",
      "167/167 [==============================] - 1s 8ms/step - loss: 0.0927 - accuracy: 0.9685 - val_loss: 0.1044 - val_accuracy: 0.9677\n",
      "Epoch 7/20\n",
      "167/167 [==============================] - 1s 8ms/step - loss: 0.0852 - accuracy: 0.9713 - val_loss: 0.0820 - val_accuracy: 0.9737\n",
      "Epoch 8/20\n",
      "167/167 [==============================] - 1s 8ms/step - loss: 0.0735 - accuracy: 0.9756 - val_loss: 0.0715 - val_accuracy: 0.9752\n",
      "Epoch 9/20\n",
      "167/167 [==============================] - 1s 8ms/step - loss: 0.0716 - accuracy: 0.9741 - val_loss: 0.1174 - val_accuracy: 0.9730\n",
      "Epoch 10/20\n",
      "167/167 [==============================] - 1s 8ms/step - loss: 0.0656 - accuracy: 0.9779 - val_loss: 0.0746 - val_accuracy: 0.9797\n",
      "Epoch 11/20\n",
      "167/167 [==============================] - 1s 8ms/step - loss: 0.0591 - accuracy: 0.9796 - val_loss: 0.0681 - val_accuracy: 0.9812\n",
      "Epoch 12/20\n",
      "167/167 [==============================] - 1s 8ms/step - loss: 0.0532 - accuracy: 0.9826 - val_loss: 0.0915 - val_accuracy: 0.9722\n",
      "Epoch 13/20\n",
      "167/167 [==============================] - 1s 8ms/step - loss: 0.0568 - accuracy: 0.9779 - val_loss: 0.0476 - val_accuracy: 0.9842\n",
      "Epoch 14/20\n",
      "167/167 [==============================] - 1s 8ms/step - loss: 0.0507 - accuracy: 0.9839 - val_loss: 0.0490 - val_accuracy: 0.9827\n",
      "Epoch 15/20\n",
      "167/167 [==============================] - 1s 8ms/step - loss: 0.0403 - accuracy: 0.9859 - val_loss: 0.0487 - val_accuracy: 0.9857\n",
      "Epoch 16/20\n",
      "167/167 [==============================] - 1s 8ms/step - loss: 0.0477 - accuracy: 0.9837 - val_loss: 0.0776 - val_accuracy: 0.9820\n",
      "Epoch 17/20\n",
      "167/167 [==============================] - 1s 8ms/step - loss: 0.0466 - accuracy: 0.9835 - val_loss: 0.0528 - val_accuracy: 0.9850\n",
      "Epoch 18/20\n",
      "167/167 [==============================] - 1s 8ms/step - loss: 0.0296 - accuracy: 0.9904 - val_loss: 0.0552 - val_accuracy: 0.9797\n",
      "Epoch 19/20\n",
      "167/167 [==============================] - 1s 9ms/step - loss: 0.0379 - accuracy: 0.9887 - val_loss: 0.0463 - val_accuracy: 0.9857\n",
      "Epoch 20/20\n",
      "167/167 [==============================] - 1s 8ms/step - loss: 0.0384 - accuracy: 0.9880 - val_loss: 0.0641 - val_accuracy: 0.9805\n"
     ]
    }
   ],
   "source": [
    "# ====================================================================================================\n",
    "model = Sequential()\n",
    "# inputShape = (height, width, depth)\n",
    "inputShape = (HEIGHT, WIDTH, 1)\n",
    "chanDim = -1\n",
    "if backend.image_data_format() == \"channels_first\":\n",
    "    # inputShape = (depth, height, width)\n",
    "    inputShape = (1, HEIGHT, WIDTH)\n",
    "    chanDim = 1\n",
    "model.add(Conv2D(32, kernel_size=(3, 3), padding=\"same\", input_shape=inputShape))\n",
    "model.add(Activation(\"relu\"))\n",
    "model.add(BatchNormalization(axis=chanDim))\n",
    "model.add(MaxPooling2D(pool_size=(3, 3)))\n",
    "model.add(Dropout(0.25))\n",
    "\n",
    "model.add(Conv2D(64, kernel_size=(3, 3), padding=\"same\"))\n",
    "model.add(Activation(\"relu\"))\n",
    "model.add(BatchNormalization(axis=chanDim))\n",
    "\n",
    "model.add(Conv2D(64, kernel_size=(3, 3), padding=\"same\"))\n",
    "model.add(Activation(\"relu\"))\n",
    "model.add(BatchNormalization(axis=chanDim))\n",
    "model.add(MaxPooling2D(pool_size=(2, 2)))\n",
    "model.add(Dropout(0.25))\n",
    "\n",
    "# model.add(Conv2D(128, kernel_size=(3, 3), padding=\"same\"))\n",
    "# model.add(Activation(\"relu\"))\n",
    "# model.add(BatchNormalization(axis=chanDim))\n",
    "\n",
    "# model.add(Conv2D(128, kernel_size=(3, 3), padding=\"same\"))\n",
    "# model.add(Activation(\"relu\"))\n",
    "# model.add(BatchNormalization(axis=chanDim))\n",
    "# model.add(MaxPooling2D(pool_size=(2, 2)))\n",
    "# model.add(Dropout(0.25))\n",
    "\n",
    "model.add(Flatten())\n",
    "model.add(Dense(1024))\n",
    "model.add(Activation(\"relu\"))\n",
    "model.add(BatchNormalization())\n",
    "model.add(Dropout(0.5))\n",
    "model.add(Dense(10))\n",
    "model.add(Activation(\"softmax\"))\n",
    "\n",
    "\n",
    "# ====================================================================================================\n",
    "model.summary()\n",
    "# ====================================================================================================\n",
    "opt = Adam(learning_rate=INIT_LR, decay=INIT_LR / EPOCHS)\n",
    "# distribution\n",
    "# loss = keras.losses.categorical_crossentropy\n",
    "model.compile(loss=\"categorical_crossentropy\", optimizer=\"adam\", metrics=[\"accuracy\"])\n",
    "# train the network\n",
    "print(\"[INFO] training network...\")\n",
    "\n",
    "\n",
    "# ====================================================================================================\n",
    "history = model.fit(\n",
    "    # aug.flow(x_train, y_train, batch_size=BATCH_SIZE),\n",
    "    x = x_train,\n",
    "    y = y_train,\n",
    "    validation_split = 0.2,\n",
    "    # validation_data=(x_test, y_test),\n",
    "    # steps per epoch? not a fixed number like 16 or 32?\n",
    "    # steps_per_epoch=len(x_train) // BATCH_SIZE,\n",
    "    epochs=20,\n",
    "    verbose=1,\n",
    ")"
   ]
  },
  {
   "cell_type": "code",
   "execution_count": 14,
   "id": "0de03f97-3840-4838-b0fd-499ff80b112a",
   "metadata": {},
   "outputs": [
    {
     "name": "stdout",
     "output_type": "stream",
     "text": [
      "INFO:tensorflow:Assets written to: my_model\\assets\n"
     ]
    }
   ],
   "source": [
    "# Save the model\n",
    "\n",
    "# pickle.dump(model, open(\"digits_model.pkl\", \"wb\"))\n",
    "model.save(\"my_model\")\n",
    "model.save('my_model.h5')"
   ]
  },
  {
   "cell_type": "code",
   "execution_count": 15,
   "id": "3859edc1-a6e5-4a5c-8bde-c752260918fd",
   "metadata": {},
   "outputs": [
    {
     "data": {
      "image/png": "[encoded data removed]",
      "text/plain": [
       "<Figure size 432x288 with 1 Axes>"
      ]
     },
     "metadata": {
      "needs_background": "light"
     },
     "output_type": "display_data"
    },
    {
     "data": {
      "image/png": "[encoded data removed]",
      "text/plain": [
       "<Figure size 432x288 with 1 Axes>"
      ]
     },
     "metadata": {
      "needs_background": "light"
     },
     "output_type": "display_data"
    }
   ],
   "source": [
    "# PLOT THE MODEL\n",
    "\n",
    "acc = history.history[\"accuracy\"]\n",
    "val_acc = history.history[\"val_accuracy\"]\n",
    "loss = history.history[\"loss\"]\n",
    "val_loss = history.history[\"val_loss\"]\n",
    "epochs = range(1, len(acc) + 1)\n",
    "# Train and validation accuracy\n",
    "plt.plot(epochs, acc, \"b\", label=\"Training accurarcy\")\n",
    "plt.plot(epochs, val_acc, \"r\", label=\"Validation accurarcy\")\n",
    "plt.title(\"Training and Validation accurarcy\")\n",
    "plt.legend()\n",
    "\n",
    "plt.figure()\n",
    "# Train and validation loss\n",
    "plt.plot(epochs, loss, \"b\", label=\"Training loss\")\n",
    "plt.plot(epochs, val_loss, \"r\", label=\"Validation loss\")\n",
    "plt.title(\"Training and Validation loss\")\n",
    "plt.legend()\n",
    "plt.show()"
   ]
  },
  {
   "cell_type": "code",
   "execution_count": 18,
   "id": "21f91cb6-38ac-49ea-ba87-cf141a76e3e2",
   "metadata": {},
   "outputs": [
    {
     "name": "stdout",
     "output_type": "stream",
     "text": [
      "correct_results --->  467     wrong_results --->  13\n"
     ]
    }
   ],
   "source": [
    "# pickled_model = pickle.load(open('digits_model.pkl', 'rb'))\n",
    "# loaded_model = pickled_model\n",
    "\n",
    "pickled_model = tf.keras.models.load_model('my_model.h5')\n",
    "loaded_model = pickled_model\n",
    "\n",
    "# loaded_model = model\n",
    "\n",
    "\n",
    "def predict(src):\n",
    "    path = src\n",
    "    img = load_img(path, target_size=(28,28))\n",
    "    img_matrix = convert_image_to_array(path)\n",
    "    toBePredictedImage = np.expand_dims(img_matrix, axis=0)\n",
    "    \n",
    "    result = loaded_model.predict(toBePredictedImage)\n",
    "    predictedClass = [np.argmax(element) for element in result]\n",
    "    image_folder = path[19:20]\n",
    "    boolResult = False\n",
    "    if str(image_folder) == str(predictedClass[0]):\n",
    "        boolResult = True\n",
    "    # print(f\"\\n{path} --- Predicted Class {predictedClass} --- Result {result} --- Correct?? {boolResult}\")\n",
    "    return boolResult\n",
    "\n",
    "test_set = []\n",
    "correct_results = 0\n",
    "wrong_results = 0\n",
    "for eachDirectory in listdir(f\"{DATASET_FOLDER}\"):\n",
    "    plant_disease_image_list = listdir(f\"{DATASET_FOLDER}/{eachDirectory}/\")\n",
    "    for image in plant_disease_image_list[1:49]:\n",
    "        test_set.append(f\"{DATASET_FOLDER}/{eachDirectory}/{image}\")\n",
    "random.shuffle(test_set)\n",
    "for image in test_set:\n",
    "    result = predict(image)\n",
    "    if(result==True):\n",
    "        correct_results += 1\n",
    "    else:\n",
    "        wrong_results += 1\n",
    "print(\"correct_results ---> \",correct_results,\"    wrong_results ---> \",wrong_results)"
   ]
  },
  {
   "cell_type": "code",
   "execution_count": null,
   "id": "ed02725e-d6c2-48a0-8b6e-9251a7220a94",
   "metadata": {},
   "outputs": [],
   "source": []
  }
 ],
 "metadata": {
  "kernelspec": {
   "display_name": "Python 3 (ipykernel)",
   "language": "python",
   "name": "python3"
  },
  "language_info": {
   "codemirror_mode": {
    "name": "ipython",
    "version": 3
   },
   "file_extension": ".py",
   "mimetype": "text/x-python",
   "name": "python",
   "nbconvert_exporter": "python",
   "pygments_lexer": "ipython3",
   "version": "3.10.4"
  }
 },
 "nbformat": 4,
 "nbformat_minor": 5
}
