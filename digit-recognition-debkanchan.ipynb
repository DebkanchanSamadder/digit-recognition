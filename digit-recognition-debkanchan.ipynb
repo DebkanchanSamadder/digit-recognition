{
 "cells": [
  {
   "cell_type": "code",
   "execution_count": null,
   "metadata": {},
   "outputs": [],
   "source": [
    "import tensorflow as tf\n",
    "from tensorflow import keras\n",
    "import cv2\n",
    "\n",
    "import numpy as np\n",
    "from os import listdir\n",
    "import random"
   ]
  },
  {
   "cell_type": "code",
   "execution_count": null,
   "metadata": {},
   "outputs": [],
   "source": [
    "DATASET_FOLDER = \"./digits\"\n",
    "DEFAULT_IMAGE_SIZE = (28, 28)\n",
    "INIT_LR = 1e-3\n",
    "EPOCHS = 15\n",
    "BATCH_SIZE = 32\n",
    "\n",
    "def convert_image_to_array(image_src):\n",
    "    try:\n",
    "        image = cv2.imread(image_src, cv2.IMREAD_GRAYSCALE)\n",
    "        if image is not None:\n",
    "            image = cv2.resize(image, DEFAULT_IMAGE_SIZE)\n",
    "            # imageMasked = mask_image(image)\n",
    "            imgToArray = keras.utils.img_to_array(image) / 255.0\n",
    "            # print(imgToArray)\n",
    "            return imgToArray\n",
    "        else:\n",
    "            return np.array([])\n",
    "    except Exception as e:\n",
    "        print(f\"Error : {e}\")\n",
    "        return None"
   ]
  },
  {
   "cell_type": "code",
   "execution_count": null,
   "metadata": {},
   "outputs": [],
   "source": [
    "image_list, label_list = [], []\n",
    "data = []\n",
    "try:\n",
    "    print(\"[INFO] Loading images ...\")\n",
    "    \n",
    "    data_dir = listdir(f\"{DATASET_FOLDER}\")\n",
    "    \n",
    "    for eachDirectory in data_dir:\n",
    "        print(f\"[INFO] Processing {eachDirectory} ...\")\n",
    "        plant_disease_image_list = listdir(f\"{DATASET_FOLDER}/{eachDirectory}/\")\n",
    "        # print(plant_disease_image_list)\n",
    "        for image in plant_disease_image_list[50:300]:\n",
    "            image_directory = f\"{DATASET_FOLDER}/{eachDirectory}/{image}\"\n",
    "            label = eachDirectory\n",
    "            if image_directory.lower().endswith(\".jpg\") == True:\n",
    "                # Converting each image into matrix\n",
    "                arrayImage = convert_image_to_array(image_directory)\n",
    "                # Adding the images, then labels to list\n",
    "                image_list.append(arrayImage)\n",
    "                label_list.append(label)\n",
    "                # adding both image and label to data\n",
    "                data.append([arrayImage, label])\n",
    "    # print(image_list)\n",
    "    print(\"\\n[INFO] Image loading completed\")\n",
    "    print(\"\\n[INFO] Total Images: \", len(data))\n",
    "except Exception as e:\n",
    "    print(f\"Error : {e}\")\n",
    "\n",
    "\n",
    "# =================================================================================================\n",
    "# Shuffle the data to remove bias towards any single sub-dataset\n",
    "random.shuffle(data)\n",
    "\n",
    "X = []\n",
    "Y = []\n",
    "print(np.shape(data))\n",
    "for features, labels in data:\n",
    "    X.append(features)  # X is images\n",
    "    Y.append(labels)  # Y is labels\n",
    "images_count = len(X)\n",
    "\n",
    "X = np.array(X)\n",
    "Y = np.array(Y)"
   ]
  },
  {
   "cell_type": "code",
   "execution_count": null,
   "metadata": {},
   "outputs": [],
   "source": [
    "# image_list = X\n",
    "# label_list = Y\n",
    "# print(np.shape(image_list))\n",
    "# label_binarizer = LabelBinarizer()\n",
    "# image_labels = label_binarizer.fit_transform(label_list)\n",
    "# n_classes = len(label_binarizer.classes_)\n",
    "# print(n_classes)"
   ]
  },
  {
   "cell_type": "code",
   "execution_count": null,
   "metadata": {},
   "outputs": [],
   "source": [
    "# np_image_list = np.array(image_list, dtype=np.float16) / 225.0\n",
    "\n",
    "\n",
    "# # ====================================================================================================\n",
    "# print(\"[INFO] Spliting data to train, test\")\n",
    "# x_train, x_test, y_train, y_test = train_test_split(\n",
    "#     np_image_list, image_labels, test_size=0.2, random_state=42\n",
    "# )"
   ]
  },
  {
   "cell_type": "markdown",
   "metadata": {},
   "source": [
    "Import Dataset"
   ]
  },
  {
   "cell_type": "code",
   "execution_count": null,
   "metadata": {},
   "outputs": [],
   "source": [
    "import tensorflow_datasets as tfds\n",
    "\n",
    "(ds_train, ds_val), ds_info = tfds.load(\n",
    "    'mnist',\n",
    "    split=['train', 'test'],\n",
    "    shuffle_files=True,\n",
    "    as_supervised=True,\n",
    "    with_info=True,\n",
    ")\n",
    "\n",
    "def normalize_img(image, label):\n",
    "  \"\"\"Normalizes images: `uint8` -> `float32`.\"\"\"\n",
    "  return tf.cast(image, tf.float32) / 255., label\n",
    "\n",
    "ds_train = ds_train.map(\n",
    "    normalize_img, num_parallel_calls=tf.data.AUTOTUNE)\n",
    "ds_train = ds_train.cache()\n",
    "ds_train = ds_train.shuffle(ds_info.splits['train'].num_examples)\n",
    "ds_train = ds_train.batch(128)\n",
    "ds_train = ds_train.prefetch(tf.data.AUTOTUNE)\n",
    "\n",
    "ds_val = ds_val.map(\n",
    "    normalize_img, num_parallel_calls=tf.data.AUTOTUNE)\n",
    "ds_val = ds_val.batch(128)\n",
    "ds_val = ds_val.cache()\n",
    "ds_val = ds_val.prefetch(tf.data.AUTOTUNE)"
   ]
  },
  {
   "cell_type": "markdown",
   "metadata": {},
   "source": [
    "Build CNN"
   ]
  },
  {
   "cell_type": "code",
   "execution_count": null,
   "metadata": {},
   "outputs": [],
   "source": [
    "inputShape = (28, 28, 1)\n",
    "chanDim = -1\n",
    "if keras.backend.image_data_format() == \"channels_first\":\n",
    "    inputShape = (1, 28, 28)\n",
    "    chanDim = 1\n",
    "model = keras.models.Sequential([\n",
    "    keras.layers.Conv2D(32, kernel_size=(3, 3), activation=\"relu\", padding=\"same\", input_shape=inputShape),\n",
    "    # keras.layers.BatchNormalization(axis=chanDim),\n",
    "    keras.layers.MaxPooling2D(pool_size=(3, 3)),\n",
    "    # keras.layers.Dropout(0.25),\n",
    "\n",
    "    # keras.layers.Conv2D(128, kernel_size=(3, 3), activation=\"relu\", padding=\"same\"),\n",
    "    # keras.layers.BatchNormalization(axis=chanDim),\n",
    "\n",
    "    keras.layers.Conv2D(128, kernel_size=(3, 3), activation=\"relu\", padding=\"same\"),\n",
    "    # keras.layers.BatchNormalization(axis=chanDim),\n",
    "    keras.layers.MaxPooling2D(pool_size=(2, 2)),\n",
    "    # keras.layers.Dropout(0.25),\n",
    "\n",
    "    keras.layers.Flatten(),\n",
    "    keras.layers.Dense(1024, activation=\"relu\"),\n",
    "    # keras.layers.BatchNormalization(),\n",
    "    # keras.layers.Dropout(0.5),\n",
    "    keras.layers.Dense(10, activation=\"softmax\")\n",
    "])\n",
    "\n",
    "model.summary()"
   ]
  },
  {
   "cell_type": "markdown",
   "metadata": {},
   "source": [
    "Train the network"
   ]
  },
  {
   "cell_type": "code",
   "execution_count": null,
   "metadata": {},
   "outputs": [],
   "source": [
    "\n",
    "model.compile(\n",
    "    optimizer=keras.optimizers.Adam(),\n",
    "    loss=keras.losses.SparseCategoricalCrossentropy(),\n",
    "    metrics=[keras.metrics.SparseCategoricalAccuracy()],\n",
    ")\n",
    "\n",
    "history = model.fit(\n",
    "    # aug.flow(x_train, y_train, batch_size=BATCH_SIZE),\n",
    "    # x = x_train,\n",
    "    # y = y_train,\n",
    "    ds_train,\n",
    "    validation_data=ds_val,\n",
    "    # steps per epoch? not a fixed number like 16 or 32?\n",
    "    # steps_per_epoch=len(x_train) // BATCH_SIZE,\n",
    "    epochs=5,\n",
    "    # validation_split=0.2,\n",
    ")"
   ]
  },
  {
   "cell_type": "markdown",
   "metadata": {},
   "source": [
    "Plot Accuracy"
   ]
  },
  {
   "cell_type": "code",
   "execution_count": null,
   "metadata": {},
   "outputs": [],
   "source": [
    "import numpy as np\n",
    "from matplotlib import pyplot as plt\n",
    "\n",
    "acc = history.history[\"sparse_categorical_accuracy\"]\n",
    "val_acc = history.history[\"val_sparse_categorical_accuracy\"]\n",
    "loss = history.history[\"loss\"]\n",
    "val_loss = history.history[\"val_loss\"]\n",
    "epochs = range(1, len(acc) + 1)\n",
    "# Train and validation accuracy\n",
    "plt.plot(epochs, acc, \"b\", label=\"Training accurarcy\")\n",
    "plt.plot(epochs, val_acc, \"r\", label=\"Validation accurarcy\")\n",
    "plt.title(\"Training and Validation accurarcy\")\n",
    "plt.legend()\n",
    "\n",
    "plt.figure()\n",
    "# Train and validation loss\n",
    "plt.plot(epochs, loss, \"b\", label=\"Training loss\")\n",
    "plt.plot(epochs, val_loss, \"r\", label=\"Validation loss\")\n",
    "plt.title(\"Training and Validation loss\")\n",
    "plt.legend()\n",
    "plt.show()"
   ]
  },
  {
   "cell_type": "code",
   "execution_count": null,
   "metadata": {},
   "outputs": [],
   "source": [
    "model\n",
    "\n",
    "path = \"./digits/6/img_21.jpg\"\n",
    "# img = load_img(path, target_size=(28,28), color_mode=\"grayscale\")\n",
    "# i = img_to_array(img)\n",
    "# im = keras.applications.vgg19.preprocess_input(i)\n",
    "# img = np.expand_dims(im, axis=0)\n",
    "matrix = convert_image_to_array(path)\n",
    "img = np.expand_dims(matrix, axis=0)\n",
    "\n",
    "result = model.predict(img)\n",
    "predictedClass = [np.argmax(element) for element in result]\n",
    "\n",
    "# print(predictedClass[0])\n",
    "image = cv2.imread(path)\n",
    "plt.imshow(image)\n",
    "print(f\"\\nPredicted value for {path} --- Predicted Class {predictedClass} --- Result {result}\")"
   ]
  },
  {
   "cell_type": "markdown",
   "metadata": {},
   "source": [
    "Test"
   ]
  },
  {
   "cell_type": "code",
   "execution_count": null,
   "metadata": {},
   "outputs": [],
   "source": [
    "\n",
    "def predict(src):\n",
    "    path = src\n",
    "    img_matrix = convert_image_to_array(path)\n",
    "    toBePredictedImage = np.expand_dims(img_matrix, axis=0)\n",
    "    \n",
    "    result = model.predict(toBePredictedImage)\n",
    "    predictedClass = [np.argmax(element) for element in result]\n",
    "    image_folder = path[9:10]\n",
    "    boolResult = False\n",
    "    if str(image_folder) == str(predictedClass[0]):\n",
    "        boolResult = True\n",
    "    # print(f\"\\nPredicted value for {path} --- Predicted Class {predictedClass} --- Result {result} --- Correct???? {boolResult}\")\n",
    "    return boolResult\n",
    "\n",
    "test_set = []\n",
    "correct_results = 0\n",
    "wrong_results = 0\n",
    "for eachDirectory in listdir(f\"{DATASET_FOLDER}\"):\n",
    "    plant_disease_image_list = listdir(f\"{DATASET_FOLDER}/{eachDirectory}/\")\n",
    "    for image in plant_disease_image_list[1:100]:\n",
    "        test_set.append(f\"{DATASET_FOLDER}/{eachDirectory}/{image}\")\n",
    "random.shuffle(test_set)\n",
    "for image in test_set:\n",
    "    result = predict(image)\n",
    "    if(result==True):\n",
    "        correct_results += 1\n",
    "    else:\n",
    "        wrong_results += 1\n",
    "print(\"correct_results ---> \",correct_results,\"    wrong_results ---> \",wrong_results)"
   ]
  }
 ],
 "metadata": {
  "kernelspec": {
   "display_name": "Python 3.9.12 ('tf')",
   "language": "python",
   "name": "python3"
  },
  "language_info": {
   "codemirror_mode": {
    "name": "ipython",
    "version": 3
   },
   "file_extension": ".py",
   "mimetype": "text/x-python",
   "name": "python",
   "nbconvert_exporter": "python",
   "pygments_lexer": "ipython3",
   "version": "3.9.12"
  },
  "orig_nbformat": 4,
  "vscode": {
   "interpreter": {
    "hash": "540e6c09fd446883b7b3a936ebf1b4129611f3813fddcb77f6664d9d73f64fe0"
   }
  }
 },
 "nbformat": 4,
 "nbformat_minor": 2
}
